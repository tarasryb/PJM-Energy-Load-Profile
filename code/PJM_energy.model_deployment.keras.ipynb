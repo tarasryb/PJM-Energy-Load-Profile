{
 "cells": [
  {
   "cell_type": "code",
   "execution_count": null,
   "metadata": {},
   "outputs": [],
   "source": [
    "from IPython.display import HTML\n",
    "\n",
    "!pip install pyspark==2.4.5\n",
    "HTML(\"<h3 style='color:green;'>Pyspark installed</h3>\")"
   ]
  },
  {
   "cell_type": "code",
   "execution_count": null,
   "metadata": {},
   "outputs": [],
   "source": [
    "!pip install tensorflow==2.2.0rc0\n",
    "HTML(\"<h3 style='color:green;'>TensorFlow installed</h3>\")"
   ]
  },
  {
   "cell_type": "code",
   "execution_count": 3,
   "metadata": {},
   "outputs": [
    {
     "data": {
      "text/html": [
       "Pyspark OK"
      ],
      "text/plain": [
       "<IPython.core.display.HTML object>"
      ]
     },
     "execution_count": 3,
     "metadata": {},
     "output_type": "execute_result"
    }
   ],
   "source": [
    "#mandatory\n",
    "\n",
    "#check Pyspark is installe\n",
    "from IPython.display import HTML\n",
    "h = HTML(\"Pyspark OK\")\n",
    "try:\n",
    "    from pyspark import SparkContext, SparkConf\n",
    "except ModuleNotFoundError as e:\n",
    "    h = HTML(\"<h3 style='color:red;'>!!!!! Please install pyspark - run previous cell !!!!!</h3>\")\n",
    "h    "
   ]
  },
  {
   "cell_type": "code",
   "execution_count": 4,
   "metadata": {},
   "outputs": [
    {
     "data": {
      "text/html": [
       "SparkSession OK"
      ],
      "text/plain": [
       "<IPython.core.display.HTML object>"
      ]
     },
     "execution_count": 4,
     "metadata": {},
     "output_type": "execute_result"
    }
   ],
   "source": [
    "#mandatory\n",
    "h = HTML(\"SparkSession OK\")\n",
    "try:\n",
    "    from pyspark.sql import SparkSession\n",
    "except ImportError as e:\n",
    "    h = HTML(\"<h3 style='color:red;'>!!!!! Please restart your kernel after installing Apache Spark !!!!!</h3>\")\n",
    "\n",
    "h    "
   ]
  },
  {
   "cell_type": "code",
   "execution_count": 5,
   "metadata": {},
   "outputs": [
    {
     "data": {
      "text/html": [
       "SparkContext OK"
      ],
      "text/plain": [
       "<IPython.core.display.HTML object>"
      ]
     },
     "execution_count": 5,
     "metadata": {},
     "output_type": "execute_result"
    }
   ],
   "source": [
    "#mandatory\n",
    "h = HTML(\"SparkContext OK\")\n",
    "\n",
    "try:\n",
    "    sc = SparkContext.getOrCreate(SparkConf().setMaster(\"local[*]\"))\n",
    "\n",
    "    spark = SparkSession \\\n",
    "        .builder \\\n",
    "        .getOrCreate()\n",
    "except Error as e:\n",
    "    h = HTML(\"<h3 style='color:red;'>!!!!! SparkContext or SparkSession creation error !!!!!</h3>\")\n",
    "\n",
    "h"
   ]
  },
  {
   "cell_type": "code",
   "execution_count": 6,
   "metadata": {},
   "outputs": [
    {
     "data": {
      "text/html": [
       "TensorFlow version OK"
      ],
      "text/plain": [
       "<IPython.core.display.HTML object>"
      ]
     },
     "execution_count": 6,
     "metadata": {},
     "output_type": "execute_result"
    }
   ],
   "source": [
    "import tensorflow as tf\n",
    "\n",
    "h = HTML(\"TensorFlow version OK\")\n",
    "\n",
    "if not tf.__version__ == '2.2.0-rc0':\n",
    "    print(tf.__version__)\n",
    "    h = HTML(\"<h3 style='color:red;'>Please upgrade to TensorFlow 2.2.0-rc0, or restart your Kernel (Kernel->Restart & Clear Output)</h3>\")\n",
    "\n",
    "h    "
   ]
  },
  {
   "cell_type": "markdown",
   "metadata": {},
   "source": [
    "### Get Data From GitHub repository"
   ]
  },
  {
   "cell_type": "code",
   "execution_count": null,
   "metadata": {},
   "outputs": [],
   "source": [
    "!wget https://raw.githubusercontent.com/tarasryb/PJM-Energy-Load-Profile/master/data/pjm_AEP_normalized.csv"
   ]
  },
  {
   "cell_type": "markdown",
   "metadata": {},
   "source": [
    "### Check the data file was downloaded successfully"
   ]
  },
  {
   "cell_type": "code",
   "execution_count": 10,
   "metadata": {},
   "outputs": [
    {
     "data": {
      "text/html": [
       "<h3 style=\"color:green\">pjm_AEP_normalized.csv file downloaded successfuly</h3>"
      ],
      "text/plain": [
       "<IPython.core.display.HTML object>"
      ]
     },
     "execution_count": 10,
     "metadata": {},
     "output_type": "execute_result"
    }
   ],
   "source": [
    "res = !ls -l\n",
    "\n",
    "h = HTML('<h3 style=\"color:red\">Can not download pjm_AEP_normalized.csv file from GitHub</h3>')\n",
    "for st in res:\n",
    "    i = st.find('pjm_AEP_normalized.csv')\n",
    "    if i > 0:\n",
    "        h = HTML('<h3 style=\"color:green\">pjm_AEP_normalized.csv file downloaded successfuly</h3>')\n",
    "\n",
    "h"
   ]
  },
  {
   "cell_type": "markdown",
   "metadata": {},
   "source": [
    "### Load CSV file into PySpark Dataframe"
   ]
  },
  {
   "cell_type": "code",
   "execution_count": 11,
   "metadata": {},
   "outputs": [],
   "source": [
    "from pyspark.sql.types import DoubleType\n",
    "from pyspark.sql.functions import col\n",
    "\n",
    "#read csv to Pyspark Dataframe\n",
    "df = spark.read.format(\"csv\").option(\"header\", \"true\").load(\"pjm_AEP_normalized.csv\")"
   ]
  },
  {
   "cell_type": "code",
   "execution_count": null,
   "metadata": {},
   "outputs": [],
   "source": [
    "df.printSchema()"
   ]
  },
  {
   "cell_type": "code",
   "execution_count": 51,
   "metadata": {},
   "outputs": [
    {
     "name": "stdout",
     "output_type": "stream",
     "text": [
      "root\n",
      " |-- day: string (nullable = true)\n",
      " |-- ts: string (nullable = true)\n",
      " |-- h_0: double (nullable = true)\n",
      " |-- h_1: double (nullable = true)\n",
      " |-- h_2: double (nullable = true)\n",
      " |-- h_3: double (nullable = true)\n",
      " |-- h_4: double (nullable = true)\n",
      " |-- h_5: double (nullable = true)\n",
      " |-- h_6: double (nullable = true)\n",
      " |-- h_7: double (nullable = true)\n",
      " |-- h_8: double (nullable = true)\n",
      " |-- h_9: double (nullable = true)\n",
      " |-- h_10: double (nullable = true)\n",
      " |-- h_11: double (nullable = true)\n",
      " |-- h_12: double (nullable = true)\n",
      " |-- h_13: double (nullable = true)\n",
      " |-- h_14: double (nullable = true)\n",
      " |-- h_15: double (nullable = true)\n",
      " |-- h_16: double (nullable = true)\n",
      " |-- h_17: double (nullable = true)\n",
      " |-- h_18: double (nullable = true)\n",
      " |-- h_19: double (nullable = true)\n",
      " |-- h_20: double (nullable = true)\n",
      " |-- h_21: double (nullable = true)\n",
      " |-- h_22: double (nullable = true)\n",
      " |-- h_23: double (nullable = true)\n",
      "\n"
     ]
    },
    {
     "data": {
      "text/plain": [
       "1877"
      ]
     },
     "execution_count": 51,
     "metadata": {},
     "output_type": "execute_result"
    }
   ],
   "source": [
    "#cast all columns except Datetime to Double\n",
    "colList = df.columns\n",
    "colList.remove('day')\n",
    "colList.remove('ts')\n",
    "    \n",
    "for column in colList:\n",
    "    df = df.withColumn(column, col(column).cast(\"double\"))\n",
    "    \n",
    "df.printSchema()\n",
    "df.count()\n",
    "#df.toPandas()"
   ]
  },
  {
   "cell_type": "markdown",
   "metadata": {},
   "source": [
    "# Create train data set: extract winter and summer data "
   ]
  },
  {
   "cell_type": "code",
   "execution_count": 52,
   "metadata": {},
   "outputs": [],
   "source": [
    "df.createOrReplaceTempView('pjm_AEP_normalized')"
   ]
  },
  {
   "cell_type": "code",
   "execution_count": 53,
   "metadata": {},
   "outputs": [
    {
     "name": "stdout",
     "output_type": "stream",
     "text": [
      "90\n"
     ]
    }
   ],
   "source": [
    "winter_data = spark.sql(\"\"\"\n",
    "    select *\n",
    "        from pjm_AEP_normalized \n",
    "        where unix_timestamp(day, \"yyyy-MM-dd\") >= unix_timestamp(\"2015-12-01\", \"yyyy-MM-dd\")AND\n",
    "              unix_timestamp(day, \"yyyy-MM-dd\") <= unix_timestamp(\"2016-02-28\", \"yyyy-MM-dd\")\n",
    "        \n",
    "    \"\"\")\n",
    "print(winter_data.count())"
   ]
  },
  {
   "cell_type": "code",
   "execution_count": 54,
   "metadata": {},
   "outputs": [
    {
     "name": "stdout",
     "output_type": "stream",
     "text": [
      "90\n"
     ]
    }
   ],
   "source": [
    "summer_data = spark.sql(\"\"\"\n",
    "    select *\n",
    "        from pjm_AEP_normalized \n",
    "        where unix_timestamp(day, \"yyyy-MM-dd\") >= unix_timestamp(\"2016-06-01\", \"yyyy-MM-dd\")AND\n",
    "              unix_timestamp(day, \"yyyy-MM-dd\") <= unix_timestamp(\"2016-08-29\", \"yyyy-MM-dd\")\n",
    "        \n",
    "    \"\"\")\n",
    "print(summer_data.count())"
   ]
  },
  {
   "cell_type": "code",
   "execution_count": 55,
   "metadata": {},
   "outputs": [],
   "source": [
    "import numpy as np\n",
    "\n",
    "winter_data = np.array(winter_data.select(\n",
    "    \"h_0\", \"h_1\", \"h_2\", \"h_3\", \"h_4\", \"h_5\", \"h_6\", \"h_7\", \"h_8\", \"h_9\", \"h_10\", \"h_11\",\n",
    "    \"h_12\", \"h_13\", \"h_14\", \"h_15\", \"h_16\", \"h_17\", \"h_18\", \"h_19\", \"h_20\", \"h_21\", \"h_22\", \"h_23\"    \n",
    "    ).collect())\n",
    "\n",
    "summer_data = np.array(summer_data.select(\n",
    "    \"h_0\", \"h_1\", \"h_2\", \"h_3\", \"h_4\", \"h_5\", \"h_6\", \"h_7\", \"h_8\", \"h_9\", \"h_10\", \"h_11\",\n",
    "    \"h_12\", \"h_13\", \"h_14\", \"h_15\", \"h_16\", \"h_17\", \"h_18\", \"h_19\", \"h_20\", \"h_21\", \"h_22\", \"h_23\"    \n",
    "    ).collect())"
   ]
  },
  {
   "cell_type": "code",
   "execution_count": 56,
   "metadata": {},
   "outputs": [
    {
     "data": {
      "text/plain": [
       "(90, 24)"
      ]
     },
     "execution_count": 56,
     "metadata": {},
     "output_type": "execute_result"
    }
   ],
   "source": [
    "winter_data.shape\n"
   ]
  },
  {
   "cell_type": "code",
   "execution_count": 57,
   "metadata": {},
   "outputs": [
    {
     "data": {
      "text/plain": [
       "(90, 24)"
      ]
     },
     "execution_count": 57,
     "metadata": {},
     "output_type": "execute_result"
    }
   ],
   "source": [
    "summer_data.shape"
   ]
  },
  {
   "cell_type": "code",
   "execution_count": 58,
   "metadata": {},
   "outputs": [
    {
     "data": {
      "text/plain": [
       "array([[0.30340414, 0.23288033, 0.17535295, ..., 0.52665259, 0.51233672,\n",
       "        0.42439636],\n",
       "       [0.33665391, 0.25201214, 0.20880063, ..., 0.47644808, 0.45573295,\n",
       "        0.38633065],\n",
       "       [0.30525135, 0.23829001, 0.19408893, ..., 0.46615649, 0.44656287,\n",
       "        0.38276818],\n",
       "       ...,\n",
       "       [0.42822272, 0.34734134, 0.29337643, ..., 0.57468004, 0.52130888,\n",
       "        0.45118089],\n",
       "       [0.36944188, 0.30459163, 0.25214408, ..., 0.58840216, 0.53450323,\n",
       "        0.44069138],\n",
       "       [0.36442802, 0.3041958 , 0.2518802 , ..., 0.69527642, 0.62607204,\n",
       "        0.50672912]])"
      ]
     },
     "execution_count": 58,
     "metadata": {},
     "output_type": "execute_result"
    }
   ],
   "source": [
    "#???\n",
    "winter_data.reshape(90, 24)\n",
    "summer_data.reshape(90, 24)"
   ]
  },
  {
   "cell_type": "markdown",
   "metadata": {},
   "source": [
    "# Design network"
   ]
  },
  {
   "cell_type": "code",
   "execution_count": 59,
   "metadata": {},
   "outputs": [],
   "source": [
    "import numpy as np\n",
    "from numpy import concatenate\n",
    "from matplotlib import pyplot\n",
    "from pandas import read_csv\n",
    "from pandas import DataFrame\n",
    "from pandas import concat\n",
    "import sklearn\n",
    "from sklearn.preprocessing import MinMaxScaler\n",
    "from sklearn.metrics import mean_squared_error\n",
    "from tensorflow.keras.models import Sequential\n",
    "from tensorflow.keras.layers import Dense, Dropout\n",
    "from tensorflow.keras.layers import LSTM\n",
    "from tensorflow.keras.callbacks import Callback\n",
    "from tensorflow.keras.models import Sequential\n",
    "from tensorflow.keras.layers import LSTM, Dense, Activation\n",
    "import pickle\n",
    "import matplotlib.pyplot as plt\n",
    "from mpl_toolkits.mplot3d import Axes3D\n",
    "import sys\n",
    "from queue import Queue\n",
    "import pandas as pd\n",
    "import json\n",
    "%matplotlib inline"
   ]
  },
  {
   "cell_type": "code",
   "execution_count": 60,
   "metadata": {},
   "outputs": [],
   "source": [
    "dim = 24\n",
    "samples = 90"
   ]
  },
  {
   "cell_type": "code",
   "execution_count": 61,
   "metadata": {},
   "outputs": [],
   "source": [
    "class LossHistory(Callback):\n",
    "    def on_train_begin(self, logs={}):\n",
    "        self.losses = []\n",
    "\n",
    "    def on_batch_end(self, batch, logs={}):\n",
    "        sys.stdout.write(str(logs.get('loss'))+str(', '))\n",
    "        sys.stdout.flush()\n",
    "        self.losses.append(logs.get('loss'))\n",
    "        \n",
    "lr = LossHistory()"
   ]
  },
  {
   "cell_type": "code",
   "execution_count": 62,
   "metadata": {},
   "outputs": [],
   "source": [
    "number_of_neurons_layer1 = 24 \n",
    "number_of_neurons_layer2 = 24 \n",
    "number_of_neurons_layer3 = 1 \n",
    "number_of_epochs = 500"
   ]
  },
  {
   "cell_type": "code",
   "execution_count": 63,
   "metadata": {},
   "outputs": [],
   "source": [
    "# design network\n",
    "from tensorflow.keras import optimizers\n",
    "sgd = optimizers.SGD(lr=0.01, clipnorm=1.)\n",
    "\n",
    "model = Sequential()\n",
    "model.add(Dense(number_of_neurons_layer1,input_shape=(dim, ), activation='relu'))\n",
    "model.add(Dense(number_of_neurons_layer2, activation='relu'))\n",
    "model.add(Dense(number_of_neurons_layer3, activation='sigmoid'))\n",
    "model.compile(loss='binary_crossentropy', optimizer=sgd)\n",
    "\n",
    "def train(data,label):\n",
    "    model.fit(data, label, epochs=number_of_epochs, batch_size=72, validation_data=(data, label), verbose=1, shuffle=True,callbacks=[lr]) #validation_data=(data, label)\n",
    "\n",
    "def score(data):\n",
    "    return model.predict(data)"
   ]
  },
  {
   "cell_type": "markdown",
   "metadata": {},
   "source": [
    "### Create labels for data"
   ]
  },
  {
   "cell_type": "code",
   "execution_count": 64,
   "metadata": {},
   "outputs": [],
   "source": [
    "winter_label = np.repeat(1, 90)\n",
    "winter_label.shape = (90, 1)\n",
    "summer_label = np.repeat(0, 90)\n",
    "summer_label.shape = (90, 1)\n",
    "both_label = np.vstack((winter_label,summer_label))\n",
    "\n",
    "train_winter = np.hstack((winter_data,winter_label))\n",
    "train_summer = np.hstack((summer_data,summer_label))\n",
    "\n",
    "both_data = np.vstack((winter_data, summer_data))\n",
    "train_both = np.vstack((train_winter,train_summer))"
   ]
  },
  {
   "cell_type": "code",
   "execution_count": 65,
   "metadata": {},
   "outputs": [
    {
     "data": {
      "text/plain": [
       "(180, 25)"
      ]
     },
     "execution_count": 65,
     "metadata": {},
     "output_type": "execute_result"
    }
   ],
   "source": [
    "train_both.shape"
   ]
  },
  {
   "cell_type": "code",
   "execution_count": null,
   "metadata": {},
   "outputs": [],
   "source": [
    "train(both_data, both_label)"
   ]
  },
  {
   "cell_type": "code",
   "execution_count": 67,
   "metadata": {},
   "outputs": [
    {
     "data": {
      "text/plain": [
       "[<matplotlib.lines.Line2D at 0x7f459859d128>]"
      ]
     },
     "execution_count": 67,
     "metadata": {},
     "output_type": "execute_result"
    },
    {
     "data": {
      "image/png": "[encoded data removed]",
      "text/plain": [
       "<Figure size 1120x480 with 1 Axes>"
      ]
     },
     "metadata": {},
     "output_type": "display_data"
    }
   ],
   "source": [
    "#plot losses\n",
    "fig, ax = plt.subplots(num=None, figsize=(14, 6), dpi=80, facecolor='w', edgecolor='k')\n",
    "size = len(lr.losses)\n",
    "ax.plot(range(0,size), lr.losses, '-', color='blue', animated = True, linewidth=1)"
   ]
  },
  {
   "cell_type": "markdown",
   "metadata": {},
   "source": [
    "# Evaluate Model"
   ]
  },
  {
   "cell_type": "code",
   "execution_count": 69,
   "metadata": {},
   "outputs": [
    {
     "name": "stdout",
     "output_type": "stream",
     "text": [
      "90\n"
     ]
    }
   ],
   "source": [
    "# get validation data for winter 2014-2015\n",
    "winter_val_data = spark.sql(\"\"\"\n",
    "    select *\n",
    "        from pjm_AEP_normalized \n",
    "        where unix_timestamp(day, \"yyyy-MM-dd\") >= unix_timestamp(\"2014-12-01\", \"yyyy-MM-dd\")AND\n",
    "              unix_timestamp(day, \"yyyy-MM-dd\") <= unix_timestamp(\"2015-02-28\", \"yyyy-MM-dd\")\n",
    "        \n",
    "    \"\"\")\n",
    "print(winter_val_data.count())"
   ]
  },
  {
   "cell_type": "code",
   "execution_count": 70,
   "metadata": {},
   "outputs": [
    {
     "name": "stdout",
     "output_type": "stream",
     "text": [
      "90\n"
     ]
    }
   ],
   "source": [
    "# get validation data for summer 2015\n",
    "summer_val_data = spark.sql(\"\"\"\n",
    "    select *\n",
    "        from pjm_AEP_normalized \n",
    "        where unix_timestamp(day, \"yyyy-MM-dd\") >= unix_timestamp(\"2015-06-01\", \"yyyy-MM-dd\")AND\n",
    "              unix_timestamp(day, \"yyyy-MM-dd\") <= unix_timestamp(\"2015-08-29\", \"yyyy-MM-dd\")\n",
    "        \n",
    "    \"\"\")\n",
    "print(summer_val_data.count())"
   ]
  },
  {
   "cell_type": "code",
   "execution_count": 71,
   "metadata": {},
   "outputs": [],
   "source": [
    "winter_val_data = np.array(winter_val_data.select(\n",
    "    \"h_0\", \"h_1\", \"h_2\", \"h_3\", \"h_4\", \"h_5\", \"h_6\", \"h_7\", \"h_8\", \"h_9\", \"h_10\", \"h_11\",\n",
    "    \"h_12\", \"h_13\", \"h_14\", \"h_15\", \"h_16\", \"h_17\", \"h_18\", \"h_19\", \"h_20\", \"h_21\", \"h_22\", \"h_23\"    \n",
    "    ).collect())\n",
    "\n",
    "summer_val_data = np.array(summer_val_data.select(\n",
    "    \"h_0\", \"h_1\", \"h_2\", \"h_3\", \"h_4\", \"h_5\", \"h_6\", \"h_7\", \"h_8\", \"h_9\", \"h_10\", \"h_11\",\n",
    "    \"h_12\", \"h_13\", \"h_14\", \"h_15\", \"h_16\", \"h_17\", \"h_18\", \"h_19\", \"h_20\", \"h_21\", \"h_22\", \"h_23\"    \n",
    "    ).collect())\n"
   ]
  },
  {
   "cell_type": "code",
   "execution_count": 72,
   "metadata": {},
   "outputs": [
    {
     "name": "stdout",
     "output_type": "stream",
     "text": [
      "6/6 [==============================] - 0s 1ms/step - loss: 0.1116\n",
      "test loss, test acc: 0.11159682273864746\n"
     ]
    }
   ],
   "source": [
    "val_data = np.vstack((winter_val_data, summer_val_data))\n",
    "\n",
    "results = model.evaluate(val_data, both_label)\n",
    "print(\"test loss, test acc:\", results)"
   ]
  },
  {
   "cell_type": "code",
   "execution_count": 73,
   "metadata": {},
   "outputs": [
    {
     "name": "stdout",
     "output_type": "stream",
     "text": [
      "total: 180 \n",
      "positives: 175 \n",
      "negatives: 5\n",
      "accuracy: 97.22%\n"
     ]
    }
   ],
   "source": [
    "prediction = model.predict(val_data)\n",
    "prediction_with_lab= np.hstack((prediction, both_label))\n",
    "\n",
    "positives = 0\n",
    "negatives = 0\n",
    "\n",
    "for item in prediction_with_lab:\n",
    "    p = item[0] #prediction\n",
    "    l = item[1] #label\n",
    "    if l == 1:  #winter label\n",
    "        if p > 0.5:\n",
    "            positives += 1\n",
    "        else:\n",
    "            negatives += 1\n",
    "\n",
    "    if l == 0:  #summer label\n",
    "        if p < 0.5:\n",
    "            positives += 1\n",
    "        else:\n",
    "            negatives += 1\n",
    "            \n",
    "            \n",
    "print(format('total: %d ' % len(prediction_with_lab)))\n",
    "print(format('positives: %d \\nnegatives: %d' % (positives, negatives)))\n",
    "\n",
    "accuracy = positives / len(prediction_with_lab) * 100\n",
    "\n",
    "print(format('accuracy: %.2f%%' % accuracy))\n"
   ]
  },
  {
   "cell_type": "code",
   "execution_count": null,
   "metadata": {},
   "outputs": [],
   "source": [
    "model.predict(summer_val_data)"
   ]
  },
  {
   "cell_type": "code",
   "execution_count": null,
   "metadata": {},
   "outputs": [],
   "source": []
  },
  {
   "cell_type": "code",
   "execution_count": 75,
   "metadata": {},
   "outputs": [
    {
     "name": "stdout",
     "output_type": "stream",
     "text": [
      "[[85  5]\n",
      " [ 0 90]]\n"
     ]
    }
   ],
   "source": [
    "from sklearn.metrics import confusion_matrix\n",
    "\n",
    "y_pred = prediction > 0.5      #clf.predict(X_test)\n",
    "cm = confusion_matrix(both_label, y_pred)\n",
    "print(cm)\n"
   ]
  },
  {
   "cell_type": "code",
   "execution_count": 76,
   "metadata": {},
   "outputs": [
    {
     "data": {
      "image/png": "[encoded data removed]",
      "text/plain": [
       "<Figure size 432x288 with 2 Axes>"
      ]
     },
     "metadata": {
      "needs_background": "light"
     },
     "output_type": "display_data"
    }
   ],
   "source": [
    "#plot confusion matrix\n",
    "labels = ['summer', 'winter']\n",
    "fig = plt.figure()\n",
    "ax = fig.add_subplot(111)\n",
    "cax = ax.matshow(cm)\n",
    "plt.title('Confusion matrix of the classifier')\n",
    "fig.colorbar(cax)\n",
    "ax.set_xticklabels([''] + labels)\n",
    "ax.set_yticklabels([''] + labels)\n",
    "plt.xlabel('Predicted')\n",
    "plt.ylabel('True')\n",
    "plt.show()"
   ]
  },
  {
   "cell_type": "code",
   "execution_count": 77,
   "metadata": {},
   "outputs": [
    {
     "name": "stdout",
     "output_type": "stream",
     "text": [
      "              precision    recall  f1-score   support\n",
      "\n",
      "      summer       1.00      0.94      0.97        90\n",
      "      winter       0.95      1.00      0.97        90\n",
      "\n",
      "   micro avg       0.97      0.97      0.97       180\n",
      "   macro avg       0.97      0.97      0.97       180\n",
      "weighted avg       0.97      0.97      0.97       180\n",
      "\n"
     ]
    }
   ],
   "source": [
    "#Print classification report\n",
    "from sklearn.metrics import classification_report\n",
    "\n",
    "labels = ['summer', 'winter']\n",
    "print(classification_report(both_label, y_pred, target_names=labels))"
   ]
  }
 ],
 "metadata": {
  "kernelspec": {
   "display_name": "Python 3.6",
   "language": "python",
   "name": "python3"
  },
  "language_info": {
   "codemirror_mode": {
    "name": "ipython",
    "version": 3
   },
   "file_extension": ".py",
   "mimetype": "text/x-python",
   "name": "python",
   "nbconvert_exporter": "python",
   "pygments_lexer": "ipython3",
   "version": "3.6.9"
  }
 },
 "nbformat": 4,
 "nbformat_minor": 1
}
